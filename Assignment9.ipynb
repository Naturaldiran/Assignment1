{
 "cells": [
  {
   "cell_type": "code",
   "execution_count": 24,
   "id": "235a5645",
   "metadata": {},
   "outputs": [],
   "source": [
    "def Rider():\n",
    "    Aweek = 6\n",
    "    sixDays = 100\n",
    "    threemonths = 78\n",
    "    fuelforthreemonths = sixDays * threemonths / Aweek\n",
    "    print(\"fuel for threemonths (78days)= \", fuelforthreemonths)\n",
    "    "
   ]
  },
  {
   "cell_type": "code",
   "execution_count": 25,
   "id": "e6a555e3",
   "metadata": {},
   "outputs": [
    {
     "name": "stdout",
     "output_type": "stream",
     "text": [
      "fuel for threemonths (78days)=  1300.0\n"
     ]
    }
   ],
   "source": [
    "Rider()"
   ]
  },
  {
   "cell_type": "code",
   "execution_count": null,
   "id": "c2718503",
   "metadata": {},
   "outputs": [],
   "source": []
  }
 ],
 "metadata": {
  "kernelspec": {
   "display_name": "Python 3 (ipykernel)",
   "language": "python",
   "name": "python3"
  },
  "language_info": {
   "codemirror_mode": {
    "name": "ipython",
    "version": 3
   },
   "file_extension": ".py",
   "mimetype": "text/x-python",
   "name": "python",
   "nbconvert_exporter": "python",
   "pygments_lexer": "ipython3",
   "version": "3.11.1"
  }
 },
 "nbformat": 4,
 "nbformat_minor": 5
}
